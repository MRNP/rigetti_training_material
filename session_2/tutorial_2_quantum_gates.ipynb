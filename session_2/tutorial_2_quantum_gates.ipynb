{
 "cells": [
  {
   "cell_type": "markdown",
   "metadata": {},
   "source": [
    "# Tutorial 2: Quantum Gates"
   ]
  },
  {
   "cell_type": "markdown",
   "metadata": {},
   "source": [
    "##### After going through this 1 hour tutorial you will:\n",
    "\n",
    "- understand pyQuil's wavefunction functionality\n",
    "- be able to visualize quantum states on the Bloch sphere\n",
    "- understand quantum gates on the Bloch sphere\n",
    "- be able to use pyQuil to create shallow circuits\n",
    "- know how to use quantum gate identities to simplify circuits"
   ]
  },
  {
   "cell_type": "markdown",
   "metadata": {},
   "source": [
    "First we need to install [QuTiP](http://qutip.org/) which is a Python toolbox for quantum physicists. We will use it to plot quantum states on the Bloch sphere. If you haven't work with or heard of QuTiP yet then you should definitely check it out (not now though)."
   ]
  },
  {
   "cell_type": "code",
   "execution_count": null,
   "metadata": {},
   "outputs": [],
   "source": [
    "!pip install qutip"
   ]
  },
  {
   "cell_type": "markdown",
   "metadata": {},
   "source": [
    "Next we need to make sure that we set up our API key & user ID in order to be able to use Rigetti's servers."
   ]
  },
  {
   "cell_type": "code",
   "execution_count": null,
   "metadata": {},
   "outputs": [],
   "source": [
    "import os\n",
    "\n",
    "API_KEY = 'YOUR API KEY GOES HERE'\n",
    "USER_ID = 'YOUR USER ID GOES HERE'\n",
    "\n",
    "PYQUIL_CONFIG = f\"\"\"\n",
    "[Rigetti Forest]\n",
    "url: https://api.rigetti.com/qvm\n",
    "key: {API_KEY}\n",
    "user_id: {USER_ID}\n",
    "\"\"\"\n",
    "\n",
    "with open(os.path.expanduser('~/.pyquil_config'), 'w') as f:\n",
    "    f.write(PYQUIL_CONFIG)"
   ]
  },
  {
   "cell_type": "markdown",
   "metadata": {},
   "source": [
    "***\n",
    "## 1. The Bloch sphere"
   ]
  },
  {
   "cell_type": "markdown",
   "metadata": {},
   "source": [
    "In the [standard quantum computing literature](https://www.google.ca/url?sa=t&rct=j&q=&esrc=s&source=web&cd=1&ved=0ahUKEwifzcXS743cAhXs6YMKHX9WCXkQFggqMAA&url=http%3A%2F%2Fwww-reynal.ensea.fr%2Fdocs%2Fiq%2FQC10th.pdf&usg=AOvVaw2C4NgLeXUf1P_DLxSk85_e) we usually write a single qubit as:"
   ]
  },
  {
   "cell_type": "markdown",
   "metadata": {},
   "source": [
    "$$\\newcommand{\\ket}[1]{\\left|{#1}\\right\\rangle}\n",
    "\\newcommand{\\bra}[1]{\\left\\langle{#1}\\right|}$$\n",
    "$$\\ket{\\psi} = e^{i\\gamma} \\big( \\, \\alpha \\ket{0} + \\beta \\ket{1}\\,\\big)$$"
   ]
  },
  {
   "cell_type": "markdown",
   "metadata": {},
   "source": [
    "We know that the probability of measuring the $\\ket{0}$ state is given by the absolute value of its amplitude squared:"
   ]
  },
  {
   "cell_type": "markdown",
   "metadata": {},
   "source": [
    "$$|e^{i\\gamma}\\alpha|^2 = e^{i\\gamma}\\alpha e^{-i\\gamma}\\alpha^\\dagger = e^{i\\gamma - i\\gamma} \\alpha \\alpha^\\dagger = \\alpha \\alpha^\\dagger$$"
   ]
  },
  {
   "cell_type": "markdown",
   "metadata": {},
   "source": [
    "This leads to the important observation that the global phase of $e^{i\\gamma}$ has no impact on the final probability and thus *global phases can always be ignored since they are immeasurable quantities*."
   ]
  },
  {
   "cell_type": "markdown",
   "metadata": {},
   "source": [
    "However, in order to visualize single-qubit states we need to express the qubit amplitudes in the following form:"
   ]
  },
  {
   "cell_type": "markdown",
   "metadata": {},
   "source": [
    "$$\\ket{\\psi} = \\cos(\\frac{\\theta}{2}) \\ket{0} + e^{i\\phi}\\sin(\\frac{\\theta}{2}) \\ket{1}$$\n",
    "where\n",
    "$$0 \\leq \\theta \\leq \\pi$$ and $$0 \\leq \\phi < 2\\pi$$."
   ]
  },
  {
   "cell_type": "markdown",
   "metadata": {},
   "source": [
    "From this expression we can obtain the three Cartesian coordinates:"
   ]
  },
  {
   "cell_type": "markdown",
   "metadata": {},
   "source": [
    "$$x = \\sin(\\theta)\\cos(\\phi)$$\n",
    "$$y = \\sin(\\theta)\\sin(\\phi)$$\n",
    "$$z = \\cos(\\theta)$$"
   ]
  },
  {
   "cell_type": "markdown",
   "metadata": {},
   "source": [
    "which can be plotted on the three-dimensional unit 2-sphere, also called Bloch sphere which looks like this:"
   ]
  },
  {
   "cell_type": "code",
   "execution_count": null,
   "metadata": {},
   "outputs": [],
   "source": [
    "from qutip import Bloch\n",
    "\n",
    "# Initialize an empty Bloch sphere\n",
    "bloch_sphere = Bloch()\n",
    "bloch_sphere.show()"
   ]
  },
  {
   "cell_type": "markdown",
   "metadata": {},
   "source": [
    "#### Exercise 1.0: \n",
    "If you haven't worked with the Bloch sphere before, read about it briefly (!) on [Wikipedia](https://en.wikipedia.org/wiki/Bloch_sphere) and read page 15 in [Nielsen & Chuang](https://www.google.ca/url?sa=t&rct=j&q=&esrc=s&source=web&cd=1&ved=0ahUKEwifzcXS743cAhXs6YMKHX9WCXkQFggqMAA&url=http%3A%2F%2Fwww-reynal.ensea.fr%2Fdocs%2Fiq%2FQC10th.pdf&usg=AOvVaw2C4NgLeXUf1P_DLxSk85_e). What does it mean if a quantum state vector lies on the equator of the sphere?"
   ]
  },
  {
   "cell_type": "markdown",
   "metadata": {},
   "source": [
    "Answer:"
   ]
  },
  {
   "cell_type": "markdown",
   "metadata": {},
   "source": [
    "Here we define two useful functions related to the Bloch sphere that we will need later on. The first one eliminates the global phase and computes $x, y, z$ from $\\alpha$ and $\\beta$. The second function simply plots a given amplitude vector on the Bloch sphere using the QuTiP library. "
   ]
  },
  {
   "cell_type": "code",
   "execution_count": null,
   "metadata": {},
   "outputs": [],
   "source": [
    "import cmath\n",
    "\n",
    "def get_vector(alpha, beta):\n",
    "    \"\"\"\n",
    "    Function to compute 3D Cartesian coordinates\n",
    "    from 2D qubit vector.\n",
    "    \"\"\"\n",
    "\n",
    "    # get phases\n",
    "    angle_alpha = cmath.phase(alpha)\n",
    "    angle_beta = cmath.phase(beta)\n",
    "\n",
    "    if (angle_beta < 0 and angle_alpha < angle_beta) or (angle_beta > 0 and angle_alpha > angle_beta):\n",
    "            denominator = cmath.exp(1j*angle_beta)\n",
    "    else:\n",
    "            denominator = cmath.exp(1j*angle_alpha)\n",
    "\n",
    "    # eliminate global phase\n",
    "    alpha_new = alpha/denominator\n",
    "    beta_new = beta/denominator\n",
    "\n",
    "    # special case to avoid division by zero\n",
    "    if abs(alpha) == 0 or abs(beta) == 0:\n",
    "        if alpha == 0:\n",
    "            return [0,0,-1]\n",
    "        else:\n",
    "            return [0,0,1]\n",
    "    else:\n",
    "        # compute theta and phi from alpha and beta\n",
    "        theta = 2*cmath.acos(alpha_new)\n",
    "        phi = -1j*cmath.log(beta_new/cmath.sin(theta/2))\n",
    "\n",
    "        # compute the Cartesian coordinates\n",
    "        x = cmath.sin(theta)*cmath.cos(phi)\n",
    "        y = cmath.sin(theta)*cmath.sin(phi)\n",
    "        z = cmath.cos(theta)\n",
    "\n",
    "    return [x.real,y.real,z.real]\n",
    "\n",
    "def plot_quantum_state(sphere, amplitudes):\n",
    "    \"\"\"\n",
    "    Thin function to abstract the plotting on the Bloch sphere.\n",
    "    \"\"\"\n",
    "    bloch_sphere = Bloch()\n",
    "    vec = get_vector(amplitudes[0], amplitudes[1])\n",
    "    bloch_sphere.add_vectors(vec)\n",
    "    bloch_sphere.show()\n",
    "    bloch_sphere.clear()"
   ]
  },
  {
   "cell_type": "markdown",
   "metadata": {},
   "source": [
    "***\n",
    "## 2. pyQuil's wavefunction"
   ]
  },
  {
   "cell_type": "markdown",
   "metadata": {},
   "source": [
    "Rigetti initializes all their qubits in the $\\ket{0}$ state. Let's verify this by running a simple pyQuil program and visualizing the resulting quantum state on the Bloch sphere."
   ]
  },
  {
   "cell_type": "markdown",
   "metadata": {},
   "source": [
    "#### Exercise 2.0: \n",
    "Read the puQuil docs and learn how to obtain the wavefunction and its amplitudes to visualize the initial qubit state on the Bloch sphere."
   ]
  },
  {
   "cell_type": "code",
   "execution_count": null,
   "metadata": {},
   "outputs": [],
   "source": [
    "from pyquil.api import QVMConnection\n",
    "from pyquil.quil import Program\n",
    "\n",
    "# initialize a QVMConnection with Rigetti's server\n",
    "qvm = QVMConnection()\n",
    "\n",
    "# initialize a pyQuil program that measures the initial qubit state\n",
    "p = Program()\n",
    "p.measure(0, 0)\n",
    "\n",
    "# TODO: find out how to get the resulting wavefunction + amplitudes after running the program in the QVM\n",
    "wavefunction =\n",
    "amplitudes =\n",
    "\n",
    "# now we can call our custom function to plot the quantum state\n",
    "plot_quantum_state(bloch_sphere, amplitudes)"
   ]
  },
  {
   "cell_type": "markdown",
   "metadata": {},
   "source": [
    "pyQuil's Wavefunction has a lot of very helpful functionalities like obtaining probabilities from amplitudes, plotting as well as pretty printing them. \n",
    "\n",
    "#### Exercise 2.1:\n",
    "Explore pyQuil's wavefunction functionalities. Try them out now!"
   ]
  },
  {
   "cell_type": "code",
   "execution_count": null,
   "metadata": {},
   "outputs": [],
   "source": [
    "# TODO: Try getting the probabilities from a wavefunction object and plot & pretty print the result!\n"
   ]
  },
  {
   "cell_type": "markdown",
   "metadata": {},
   "source": [
    "***\n",
    "## 3. The Hadamard gate"
   ]
  },
  {
   "cell_type": "markdown",
   "metadata": {},
   "source": [
    "In the previous tutorial you've already familiarized yourself with a really important quantum gate: the Hadamard gate. In Dirac notation the H gate corresponds to the matrix given by:"
   ]
  },
  {
   "cell_type": "markdown",
   "metadata": {},
   "source": [
    "$$H = \\frac{1}{\\sqrt{2}} \\begin{bmatrix}\n",
    "1 & 1 \\\\\n",
    "1 & -1\n",
    "\\end{bmatrix}$$"
   ]
  },
  {
   "cell_type": "markdown",
   "metadata": {},
   "source": [
    "The Hadamard is an essential ingredient to create quantum superposition states. In the following exercises you will further explore it's use cases and intricacies."
   ]
  },
  {
   "cell_type": "markdown",
   "metadata": {},
   "source": [
    "#### Exercise 3.0:\n",
    "Import and apply the Hadamard gate one time and observe how the plot of the probability distribution changes! What do you observe?"
   ]
  },
  {
   "cell_type": "code",
   "execution_count": null,
   "metadata": {},
   "outputs": [],
   "source": [
    "p = Program()\n",
    "# apply the Hadamard gate to qubit 0 once\n",
    "\n",
    "# TODO: get the wavefunction from the QVM \n",
    "# and plot the probability distribution"
   ]
  },
  {
   "cell_type": "markdown",
   "metadata": {},
   "source": [
    "#### Exercise 3.1:\n",
    "In three different experiments, apply the Hadamard gate two, three, and four times in sequence and observe how the probability distribution changes! What do you observe?"
   ]
  },
  {
   "cell_type": "code",
   "execution_count": null,
   "metadata": {},
   "outputs": [],
   "source": [
    "p = Program()\n",
    "# TODO: apply the Hadamard gate multiple times\n",
    "\n",
    "# TODO: get the wavefunction from the QVM \n",
    "# and plot the probability distribution"
   ]
  },
  {
   "cell_type": "markdown",
   "metadata": {},
   "source": [
    "***\n",
    "## 4. Pauli gates on the Bloch sphere"
   ]
  },
  {
   "cell_type": "markdown",
   "metadata": {},
   "source": [
    "#### Exercise 4.0:\n",
    "Explore the action of the Pauli gates (Identity, $X$, $Y$, $Z$) on the Bloch sphere. <a title=\"Try using a H gate first to move the Bloch vector onto the equator and then apply the X, Y or Z gate to observe the rotation.\">Hint.</a>"
   ]
  },
  {
   "cell_type": "code",
   "execution_count": null,
   "metadata": {
    "scrolled": false
   },
   "outputs": [],
   "source": [
    "# TODO: import the Pauli gates (Identity, X, Y, Z).\n",
    "\n",
    "p = Program()\n",
    "\n",
    "# HINT: this is how we instantiate an X (NOT) gate on qubit 0\n",
    "p.inst(X(0))\n",
    "\n",
    "# TODO: try I, X, Y, Z on different initial quantum states!\n",
    "\n",
    "# TODO: get amplitudes for plotting.\n",
    "amplitudes = \n",
    "\n",
    "plot_quantum_state(bloch_sphere, amplitudes)"
   ]
  },
  {
   "cell_type": "markdown",
   "metadata": {},
   "source": [
    "#### Exercise 4.1:\n",
    "How many degrees around which axis do the Pauli gates rotate the Bloch vector? Make sure to also try other initial states (e.g. Bloch vector on $x$, $-x$, $y$ or $-y$ axis)!"
   ]
  },
  {
   "cell_type": "markdown",
   "metadata": {},
   "source": [
    "Answer:"
   ]
  },
  {
   "cell_type": "markdown",
   "metadata": {},
   "source": [
    "#### Exercise 4.2:\n",
    "There is many more elementary quantum gates than just Pauli gates! Try out the $T$ and $S$ gates and find out which rotations they correspond to. You might want to quickly read up on them in [Nielsen & Chuang](https://www.google.ca/url?sa=t&rct=j&q=&esrc=s&source=web&cd=1&ved=0ahUKEwifzcXS743cAhXs6YMKHX9WCXkQFggqMAA&url=http%3A%2F%2Fwww-reynal.ensea.fr%2Fdocs%2Fiq%2FQC10th.pdf&usg=AOvVaw2C4NgLeXUf1P_DLxSk85_e)."
   ]
  },
  {
   "cell_type": "code",
   "execution_count": null,
   "metadata": {},
   "outputs": [],
   "source": [
    "# TODO: import the T and S gate\n",
    "\n",
    "p = Program()\n",
    "\n",
    "# TODO: try T and S on different initial quantum states!\n",
    "\n",
    "# TODO: get amplitudes for plotting.\n",
    "amplitudes = \n",
    "\n",
    "plot_quantum_state(bloch_sphere, amplitudes)"
   ]
  },
  {
   "cell_type": "markdown",
   "metadata": {},
   "source": [
    "#### Exercise 4.3:\n",
    "What rotations on the Bloch sphere do the T and S gate correspond to?"
   ]
  },
  {
   "cell_type": "markdown",
   "metadata": {},
   "source": [
    "Answer:"
   ]
  },
  {
   "cell_type": "markdown",
   "metadata": {},
   "source": [
    "#### Exercise 4.4:\n",
    "pyQuil has many different ways of defining a quantum program. Read the docs and try it below (print the final programs to understand the effect):"
   ]
  },
  {
   "cell_type": "code",
   "execution_count": null,
   "metadata": {},
   "outputs": [],
   "source": [
    "# TODO: Try out different possibilities of chaining instructions\n",
    "p = Program()\n",
    "\n",
    "# try putting multiple gates into a single .inst() call\n",
    "\n",
    "# chain multiple .inst() call after each other and add a final MEASURE or .measure statement\n",
    "\n",
    "# try to mix the two possibilities above\n",
    "\n",
    "# define three programs and then add them together and print it. What do you observe?"
   ]
  },
  {
   "cell_type": "markdown",
   "metadata": {},
   "source": [
    "#### Exercise 4.5:\n",
    "Use the last program from the previous exercise and try out calling the `.pop()` function. Print the program again. What do you observe?"
   ]
  },
  {
   "cell_type": "code",
   "execution_count": null,
   "metadata": {},
   "outputs": [],
   "source": [
    "# TODO: Use .pop() on the last program from Ex. 4.4"
   ]
  },
  {
   "cell_type": "markdown",
   "metadata": {},
   "source": [
    "#### Exercise 4.6:\n",
    "pyQuil comes with a lot of already implemented quantum gates. In this exercise it is your goal to manually implement your own single qubit gate. Try to define the following gate manually:\n",
    "$U =  \\begin{bmatrix}\n",
    "e^{i\\frac{2}{3}\\pi} & 0 \\\\\n",
    "0 & e^{-i\\frac{2}{3}\\pi}\n",
    "\\end{bmatrix}$"
   ]
  },
  {
   "cell_type": "code",
   "execution_count": null,
   "metadata": {},
   "outputs": [],
   "source": [
    "# TODO: Implement custom single-qubit rotation with pyQuil"
   ]
  },
  {
   "cell_type": "markdown",
   "metadata": {},
   "source": [
    "***\n",
    "## 5. Quantum gate identities"
   ]
  },
  {
   "cell_type": "markdown",
   "metadata": {},
   "source": [
    "Current quantum computers only allow shallow depth circuits since the qubits decohere too quickly. Thus, it is extremely important to keep your circuits small! In this section you will use pen & paper to learn how to manually simplify quantum circuits.\n",
    "\n",
    "By the way, there is a lot of people (including Rigetti staff) working on automating this task. They are working on developing more efficient and better **quantum compiler**."
   ]
  },
  {
   "cell_type": "code",
   "execution_count": 2,
   "metadata": {},
   "outputs": [],
   "source": [
    "# Mark needs TODO: some examples for circuit identities & talk about hermitian matrices"
   ]
  },
  {
   "attachments": {
    "image.png": {
     "image/png": "[encoded data removed]"
    }
   },
   "cell_type": "markdown",
   "metadata": {},
   "source": [
    "<img src=\"attachment:image.png\" width=\"300\">"
   ]
  },
  {
   "cell_type": "markdown",
   "metadata": {},
   "source": [
    "#### Pen & Paper Exercise 5.0\n",
    "Go through the math of the quantum circuit shown above by explicitly multiplying the matrices. What does this circuit reduce to? <a title=\"You have to take the tensor product H x H (numpy.kron) in order to get a 4x4 matrix.\">Hint.</a>"
   ]
  },
  {
   "cell_type": "markdown",
   "metadata": {},
   "source": [
    "#### Pen & Paper Exercise 5.1\n",
    "Consider the quantum circuit below. Use [this paper](https://arxiv.org/pdf/quant-ph/0307111.pdf) and other sources to simplify and condense the quantum circuit as much as possible."
   ]
  },
  {
   "attachments": {
    "image.png": {
     "image/png": "[encoded data removed]"
    }
   },
   "cell_type": "markdown",
   "metadata": {},
   "source": [
    "![image.png](attachment:image.png)"
   ]
  },
  {
   "cell_type": "markdown",
   "metadata": {},
   "source": [
    "***\n",
    "## 6. Bonus exercises"
   ]
  },
  {
   "cell_type": "markdown",
   "metadata": {},
   "source": [
    "#### Bonus Exercise 6.0:\n",
    "How would you describe the rotation of the Hadamard gate on the Bloch sphere? How many degrees around which axis? Make sure to not just check how it acts on the $\\ket{0}$ or $\\ket{1}$ state! Try for example to prepare the state $$\\ket{\\psi} = \\frac{1}{\\sqrt{2}}\\ket{0} + \\frac{i}{\\sqrt{2}}\\ket{1}$$ (y-axis on Bloch sphere) and then act the H gate on it."
   ]
  },
  {
   "cell_type": "markdown",
   "metadata": {},
   "source": [
    "Answer:"
   ]
  },
  {
   "cell_type": "markdown",
   "metadata": {},
   "source": [
    "#### Bonus Exercise 6.1:\n",
    "Read the pyQuil docs and learn about parametric gates and multi-qubit gates.\n",
    "\n",
    "- Try to manually create a Toffoli gate by using `np.kron()`.\n",
    "- Try to manually create a parametrized controlled U gate with:\n",
    "$U =  \\begin{bmatrix}\n",
    "1 & 0 \\\\\n",
    "0 & e^{i\\phi}\n",
    "\\end{bmatrix}$"
   ]
  },
  {
   "cell_type": "code",
   "execution_count": null,
   "metadata": {},
   "outputs": [],
   "source": [
    "# TODO: Manually create a Toffoli and a parametric controlled U gate"
   ]
  },
  {
   "cell_type": "markdown",
   "metadata": {},
   "source": [
    "#### Bonus Exercise 6.2:\n"
   ]
  },
  {
   "cell_type": "code",
   "execution_count": null,
   "metadata": {},
   "outputs": [],
   "source": [
    "# Mark needs TODO: Rotate the Bloch vector to the specified location"
   ]
  }
 ],
 "metadata": {
  "kernelspec": {
   "display_name": "Python 3",
   "language": "python",
   "name": "python3"
  },
  "language_info": {
   "codemirror_mode": {
    "name": "ipython",
    "version": 3
   },
   "file_extension": ".py",
   "mimetype": "text/x-python",
   "name": "python",
   "nbconvert_exporter": "python",
   "pygments_lexer": "ipython3",
   "version": "3.6.5"
  }
 },
 "nbformat": 4,
 "nbformat_minor": 2
}
