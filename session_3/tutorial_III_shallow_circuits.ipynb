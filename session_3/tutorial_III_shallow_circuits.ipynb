{
 "cells": [
  {
   "cell_type": "markdown",
   "metadata": {},
   "source": [
    "# Tutorial 3: Shallow Circuits"
   ]
  },
  {
   "cell_type": "markdown",
   "metadata": {},
   "source": [
    "##### After going through this 1 hour tutorial you will:\n",
    "\n",
    "- know what a universal quantum gate set is\n",
    "- be able to decompose quantum gates using universal gate sets\n",
    "- know how to manually initialize quantum states\n",
    "- know [pyQuil](https://github.com/rigetticomputing/pyquil)'s quantum algorithm library [Grove](https://github.com/rigetticomputing/grove)\n",
    "- understand how to simulate Hamiltonians on universal quantum computers"
   ]
  },
  {
   "cell_type": "markdown",
   "metadata": {},
   "source": [
    "As always, we first need to make sure that we set up our API key & user ID in order to be able to use Rigetti's servers."
   ]
  },
  {
   "cell_type": "code",
   "execution_count": null,
   "metadata": {},
   "outputs": [],
   "source": [
    "import os\n",
    "\n",
    "API_KEY = 'YOUR API KEY GOES HERE'\n",
    "USER_ID = 'YOUR USER ID GOES HERE'\n",
    "\n",
    "PYQUIL_CONFIG = f\"\"\"\n",
    "[Rigetti Forest]\n",
    "url: https://api.rigetti.com/qvm\n",
    "key: {API_KEY}\n",
    "user_id: {USER_ID}\n",
    "\"\"\"\n",
    "\n",
    "with open(os.path.expanduser('~/.pyquil_config'), 'w') as f:\n",
    "    f.write(PYQUIL_CONFIG)"
   ]
  },
  {
   "cell_type": "markdown",
   "metadata": {},
   "source": [
    "***\n",
    "## 1. Universal quantum gate set"
   ]
  },
  {
   "cell_type": "markdown",
   "metadata": {},
   "source": [
    "Most near-term quantum computers have a limited set of quantum gates which can be implemented on the hardware level. For example, Rigetti implements only two single-qubit and one two-qubit gate on the QPU. More specifically, these are $RZ(\\theta)$, $RX(\\frac{k\\pi}{2})$, and a controlled $Z$ ($CZ$) defined as:"
   ]
  },
  {
   "cell_type": "markdown",
   "metadata": {},
   "source": [
    "$$\\newcommand{\\ket}[1]{\\left|{#1}\\right\\rangle}\n",
    "\\newcommand{\\bra}[1]{\\left\\langle{#1}\\right|}$$\n",
    "$$R_Z(\\theta) = \\begin{bmatrix}\n",
    "    e^{-i\\frac{\\theta}{2}} & 0 \\\\\n",
    "    0 & e^{i\\frac{\\theta}{2}}\n",
    "    \\end{bmatrix}$$\n",
    "    \n",
    "$$R_X(\\frac{k\\pi}{2}) = \\begin{bmatrix}\n",
    "    \\cos\\frac{k\\pi}{4} & -i\\sin\\frac{k\\pi}{4} \\\\\n",
    "    -i\\sin\\frac{k\\pi}{4} & \\cos\\frac{k\\pi}{4}\n",
    "    \\end{bmatrix}$$\n",
    "    \n",
    "$$CZ = \\begin{bmatrix}\n",
    "    1 & 0 & 0 & 0 \\\\\n",
    "    0 & 1 & 0 & 0 \\\\\n",
    "    0 & 0 & 1 & 0 \\\\\n",
    "    0 & 0 & 0 & -1 \\\\\n",
    "    \\end{bmatrix}$$"
   ]
  },
  {
   "cell_type": "markdown",
   "metadata": {},
   "source": [
    "At first, this set of quantum gates might seem very small. Especially considering that we just learned in Lecture II that there are infinitely many quantum gates (since the only requirement is unitarity)! However, there is a very important theorem at the core of quantum theory:\n",
    "\n",
    "###### The Solovay-Kitaev theorem\n",
    "Let $G$ be a universal quantum set consisting of quantum gates from SU(2) and\n",
    "let $\\epsilon > 0$ be a desired accuracy. Then there is a constant $b$ such that for any single-qubit\n",
    "gate $W \\in$ $SU(2)$ there exists a finite gate sequence $\\tilde{G}$ of gates from the set $G$ of length\n",
    "$\\mathcal{O}(\\log^b (\\frac{1}{\\epsilon}))$ such that $d(W, \\tilde{G}) < \\epsilon$. In their proof, Dawson and Nielsen (2005) show that $b \\approx 3.97$.\n",
    "\n",
    "In other words, using a universal quantum gate set we can approximate a circuit containing $m$ CNOTs and single qubit unitaries to an accuracy $\\epsilon$ with $\\mathcal{O}(m \\log^b (\\frac{m}{\\epsilon}))$ gates. That's a polylogarithmic increase in size compared to the original circuit which is very acceptable for almost all applications.\n",
    "\n",
    "And of course Rigetti's set of three quantum gates is universal. **Hence, any quantum circuit can be constructed from this universal set of quantum gates!**\n",
    "\n",
    "***"
   ]
  },
  {
   "cell_type": "markdown",
   "metadata": {},
   "source": [
    "In Lecture II on quantum gates and notation we've been discussing the four Pauli gates I, X, Y and Z as well as the Hadamard gate. For the next exercises, we've manually implemented these four gates as matrices using `numpy.matrix`:"
   ]
  },
  {
   "cell_type": "code",
   "execution_count": null,
   "metadata": {
    "scrolled": true
   },
   "outputs": [],
   "source": [
    "import numpy as np\n",
    "\n",
    "pauli_I = np.matrix([[1, 0],[0, 1]])\n",
    "print(f'Identity gate matrix: \\n {pauli_I} \\n')\n",
    "pauli_X = np.matrix([[0, 1],[1, 0]])\n",
    "print(f'Pauli X gate matrix: \\n {pauli_X} \\n')\n",
    "pauli_Y = np.matrix([[0, -1j],[1j, 0]])\n",
    "print(f'Pauli Y gate matrix: \\n {pauli_Y} \\n')\n",
    "pauli_Z = np.matrix([[1, 0],[0, -1]])\n",
    "print(f'Pauli Z gate matrix: \\n {pauli_Z} \\n')\n",
    "hadamard = np.matrix([[0.707, 0.707],[0.707, -0.707]])\n",
    "print(f'Hadamard gate matrix: \\n {hadamard} \\n')"
   ]
  },
  {
   "cell_type": "markdown",
   "metadata": {},
   "source": [
    "##### Exercise 1.0\n",
    "For which value of $\\theta$ does $RZ(\\theta)$ represent the Pauli Z gate?"
   ]
  },
  {
   "cell_type": "code",
   "execution_count": null,
   "metadata": {},
   "outputs": [],
   "source": [
    "import cmath\n",
    "\n",
    "# manual definition of Rigetti's parametrized RZ gate. no need to modify.\n",
    "rz = lambda theta: np.matrix([[cmath.exp(-1j*theta/2), 0],[0, cmath.exp(1j*theta/2)]])\n",
    "\n",
    "theta = ? # TODO: find the right value for theta\n",
    "\n",
    "print(f'RZ with theta={theta} results in the following matrix: \\n\\n {1j*rz(theta)} \\n')\n",
    "print(f'Subtracting RZ with theta={theta} from pauli_Z results in: \\n\\n {np.round(1j*rz(theta)-pauli_Z)}')"
   ]
  },
  {
   "cell_type": "markdown",
   "metadata": {},
   "source": [
    "##### Exercise 1.1\n",
    "For which integer value of $k$ does $RX(\\phi)$ with $\\phi=\\frac{k\\pi}{2}$ represent the Pauli X gate?"
   ]
  },
  {
   "cell_type": "code",
   "execution_count": null,
   "metadata": {},
   "outputs": [],
   "source": [
    "# manual definition of Rigetti's parametrized RX gate. no need to modify.\n",
    "rx = lambda phi: np.matrix([[cmath.cos(phi/2), -1j*cmath.sin(phi/2)],[-1j*cmath.sin(phi/2), cmath.cos(phi/2)]])\n",
    "\n",
    "k = ? # TODO: find the right value for k (must be an integer)\n",
    "\n",
    "phi = k*cmath.pi/2 # do NOT modify (this is Rigetti's RX parametrization)\n",
    "print(f'RX with k={k} results in the following matrix: \\n\\n {1j*rx(phi)}')\n",
    "print(f'Subtracting RX with k={k} from pauli_X results in: \\n\\n {np.round(1j*rx(phi)-pauli_X)}')"
   ]
  },
  {
   "cell_type": "markdown",
   "metadata": {},
   "source": [
    "***\n",
    "## 2. Quantum gate decomposition"
   ]
  },
  {
   "cell_type": "markdown",
   "metadata": {},
   "source": [
    "To fully grasp the implications of the Solovay-Kitaev theorem you will manually decompose several gates in this section."
   ]
  },
  {
   "cell_type": "markdown",
   "metadata": {},
   "source": [
    "##### Exercise 2.0\n",
    "Use the definitions of Rigetti's $RZ(\\theta)$ and $RX(\\frac{k\\pi}{2})$ gates above to find a combination (product) of gates that implements the Hadamard (H) on Rigetti's QPU! As a recap here is the matrix representation of the Hadamard gate:\n",
    "$$H = \\frac{1}{\\sqrt{2}} \\begin{bmatrix}\n",
    "    1 & 1 \\\\\n",
    "    1 & -1\n",
    "    \\end{bmatrix}  \\approx  \\begin{bmatrix}\n",
    "    0.707 & 0.707 \\\\\n",
    "    0.707 & -0.707\n",
    "    \\end{bmatrix}$$\n",
    "\n",
    "<a title=\"Try multiplying the resulting matrix with the imaginary number i (remember that global phase doesn't matter) in order to get the correct result.\">Hint.</a>"
   ]
  },
  {
   "cell_type": "code",
   "execution_count": null,
   "metadata": {},
   "outputs": [],
   "source": [
    "# TODO: play with these two values (theta and k)\n",
    "theta = ?\n",
    "k = ? # must be an integer\n",
    "\n",
    "# the angle for the RX gate is fixed to integer multiple of pi/2\n",
    "phi = k*cmath.pi/2\n",
    "\n",
    "# TODO: make different products (use 2, 3 or 4 gates)\n",
    "gate_product = rz(theta)*rx(phi)\n",
    "print(f'The sequence of gates yields the matrix: \\n \\n {gate_product} \\n')\n",
    "print(f'Subtracting this sequence of gates from the Hadamard yields: \\n \\n {np.round(gate_product-hadamard)}')"
   ]
  },
  {
   "attachments": {
    "image.png": {
     "image/png": "[encoded data removed]"
    }
   },
   "cell_type": "markdown",
   "metadata": {},
   "source": [
    "#### Exercise 2.1:\n",
    "[This paper by Garcia-Escartin and Chamorro-Posada](https://arxiv.org/pdf/1110.2998.pdf) is a great resource to understand the equivalence of a lot of different circuits. Among other useful things, they show that the following circuit involving a controlled-Z (CZ) gate is equivalent to a single CNOT operation:\n",
    "\n",
    "<img src=\"attachment:image.png\" width=\"300\">\n",
    "\n",
    "Use your decomposed Hadamard gate from the previous exercise to implement a $CNOT$ (up to an unimportant global phase) using a $CZ$ gate and parametrized RX and RZ gates in pyQuil!\n",
    "\n",
    "**NOTE: Don't use the definitions of `rz` and `rx` from the previous exercises but rather use pyQuil's parametrized RX and RZ gates.**"
   ]
  },
  {
   "cell_type": "code",
   "execution_count": null,
   "metadata": {
    "scrolled": true
   },
   "outputs": [],
   "source": [
    "# from pyquil.api import CompilerConnection, get_devices\n",
    "from pyquil.quil import Program\n",
    "from pyquil.gates import RX, RZ, CZ, X\n",
    "from pyquil.api import QVMConnection\n",
    "\n",
    "# assuming the 0th qubit is the control qubit, a X gate on 0 turns the control qubit ON (1) or OFF (0)\n",
    "p = Program().inst(X(0))\n",
    "\n",
    "# TODO: create a circuit with RX, RZ and CZ that equals a single CNOT gate\n",
    "p.inst(?)\n",
    "\n",
    "# establish connection to QVM and get wavefunction\n",
    "qvm = QVMConnection()\n",
    "wavefunction = qvm.wavefunction(p)\n",
    "print(f'The resulting wavefunction is: {wavefunction}')\n",
    "print(wavefunction.plot())"
   ]
  },
  {
   "cell_type": "markdown",
   "metadata": {},
   "source": [
    "***\n",
    "## 3. Quantum state preparation"
   ]
  },
  {
   "cell_type": "markdown",
   "metadata": {},
   "source": [
    "The goal of quantum state preparation is the ability to generate quantum states with arbitrary amplitude distributions. Formally speaking, given a complex non-zero amplitude vector $\\mathbf{a} \\in \\mathbb{C}^N$ with components $a_i$ find an algorithm that takes the initial state $\\ket{0}^{\\otimes \\log_2 N}$ and outputs the following state:\n",
    "$$\\ket{\\Psi} = \\sum^{N-1}_{i=0} \\frac{a_i}{\\mid \\mathbf{a} \\mid} \\ket{i}$$\n",
    "where $\\ket{i}$ stands for $i$ in its binary representation."
   ]
  },
  {
   "cell_type": "markdown",
   "metadata": {},
   "source": [
    "#### Exercise 3.0:\n",
    "Design and implement a quantum circuit that initializes the following quantum state:\n",
    "\n",
    "$$ \\ket{\\Psi} = \\frac{-i}{2} \\, \\ket{00} - \\frac{i}{2} \\, \\ket{01} + \\frac{i}{2} \\, \\ket{10} + \\frac{i}{2} \\,\\ket{11} $$\n",
    "\n",
    "<a title=\"Use pyQuil's wavefunction functionality to print the prepared quantum state.\">Hint.</a>"
   ]
  },
  {
   "cell_type": "code",
   "execution_count": null,
   "metadata": {},
   "outputs": [],
   "source": [
    "from pyquil.api import QVMConnection\n",
    "from pyquil.gates import CNOT, H, Z\n",
    "from pyquil.quil import Program\n",
    "\n",
    "qvm = QVMConnection()\n",
    "p = Program()\n",
    "\n",
    "# TODO: initialize the quantum state with quantum gates\n",
    "\n",
    "print(qvm.wavefunction(p))"
   ]
  },
  {
   "cell_type": "markdown",
   "metadata": {},
   "source": [
    "#### Exercise 3.1:\n",
    "Built a quantum circuit with a conditional measurement to construct the following quantum state:\n",
    "\n",
    "$$ \\ket{\\Psi} = -\\frac{1}{2} \\,|001> -  \\, \\frac{1}{2} \\,|011> + \\, \\frac{1}{2} \\,|101> + \\, \\frac{1}{2} \\,|111> $$\n",
    "\n",
    "<a title=\"Look at the if_then() function to access the shared memory in order to perform a conditional measurement.\">Hint.</a>"
   ]
  },
  {
   "cell_type": "code",
   "execution_count": null,
   "metadata": {},
   "outputs": [],
   "source": [
    "from pyquil.api import QVMConnection\n",
    "from pyquil.gates import CNOT, H, Z, CCNOT, X, CZ, I\n",
    "from pyquil.quil import Program\n",
    "\n",
    "qvm = QVMConnection()\n",
    "p = Program()\n",
    "\n",
    "# TODO: initialize the quantum state with quantum gates + conditional measurement\n",
    "\n",
    "print(qvm.wavefunction(p))"
   ]
  },
  {
   "cell_type": "markdown",
   "metadata": {},
   "source": [
    "***\n",
    "## 4. Rigetti's Grove algorithms library"
   ]
  },
  {
   "cell_type": "markdown",
   "metadata": {},
   "source": [
    "There is several algorithms for quantum state preparation in the literature. For example, see [1](https://arxiv.org/pdf/1706.02721.pdf), [2](https://journals.aps.org/pra/abstract/10.1103/PhysRevA.73.012307), [3](https://journals.aps.org/prl/abstract/10.1103/PhysRevLett.87.067901), [4](https://arxiv.org/abs/quant-ph/0208112) and [5](https://link.springer.com/article/10.1023/A:1021695125245). You should definitely read them at some point since they offer great insight into the difficulties involved with quantum state preparation. As you will see, each of these algorithms comes with tradeoffs and you will have to decide which one fits your needs. Also keep in mind that near-term quantum computers limit the number of quantum gate operations you can perform due to decoherence (also called **quantum circuit depth**). Most of the above algorithms will have extensive resource requirements to ensure generality which will probably force you to do manual state preparation in order to ensure maximum efficiency."
   ]
  },
  {
   "cell_type": "markdown",
   "metadata": {},
   "source": [
    "At this point, we need to install [Grove](https://github.com/rigetticomputing/grove) - a Python library with plenty of quantum algorithms implemented in [pyQuil](https://github.com/rigetticomputing/pyquil). I highly recommend you to check out the Grove documentation since it is a great resource to learn about the individual quantum algorithms and their implementations!"
   ]
  },
  {
   "cell_type": "code",
   "execution_count": null,
   "metadata": {},
   "outputs": [],
   "source": [
    "!pip install git+https://github.com/rigetticomputing/grove"
   ]
  },
  {
   "cell_type": "markdown",
   "metadata": {},
   "source": [
    "#### Exercise 4.0:\n",
    "Use Grove's arbitrary state generation algorithm to generate circuits for the quantum states in Exercises 3.0 and 3.1."
   ]
  },
  {
   "cell_type": "code",
   "execution_count": null,
   "metadata": {},
   "outputs": [],
   "source": [
    "# TODO: Use Grove to generate circuits"
   ]
  },
  {
   "cell_type": "markdown",
   "metadata": {},
   "source": [
    "#### Exercise 4.1:\n",
    "Print the generated circuits in Exercise 4.0 and compare them with the circuits that you designed by hand in section 3. Where you doing better or worse in terms of quantum circuit depth?"
   ]
  },
  {
   "cell_type": "markdown",
   "metadata": {},
   "source": [
    "***\n",
    "## 5. Quantum simulation"
   ]
  },
  {
   "cell_type": "markdown",
   "metadata": {},
   "source": [
    "Errors in quantum computations are major hurdles for the development of a universal fault-tolerant quantum computer. There is a whole research field dedicated to what we call **quantum error correction**. The various types of error propagate differently through CNOT gates. In the following section we will analyze this in more detail and use it to our advantage to simulate simple local Hamiltonians."
   ]
  },
  {
   "attachments": {
    "image.png": {
     "image/png": "[encoded data removed]"
    }
   },
   "cell_type": "markdown",
   "metadata": {},
   "source": [
    "### Example: Bit flip errors\n",
    "\n",
    "A bit flip error is a undesired spontaneous flip of a qubit and equivalent to the application of an X gate. Consider the following **error-free circuit**:\n",
    "\n",
    "<img src=\"attachment:image.png\" width=\"200\">\n",
    "\n",
    "With an initial state of $\\ket{00}$ we would also expect an output of $\\ket{00}$ since two CNOTs are equal to the identity operation."
   ]
  },
  {
   "attachments": {
    "image.png": {
     "image/png": "[encoded data removed]"
    }
   },
   "cell_type": "markdown",
   "metadata": {},
   "source": [
    "Now, let's assume a bit flip error on $q_0$ occurs between the two CNOT gates. The circuit with bit flip error then reads:\n",
    "\n",
    "<img src=\"attachment:image.png\" width=\"200\">\n",
    "\n",
    "With an initial state of $\\ket{00}$ we will know get an output of $\\ket{11}$ which means **the bit flip error propagated downwards through the second CNOT gate**!"
   ]
  },
  {
   "attachments": {
    "image.png": {
     "image/png": "[encoded data removed]"
    }
   },
   "cell_type": "markdown",
   "metadata": {},
   "source": [
    "For the sake of completeness, let's also check the case when a bit flip error on $q_1$ (rather than $q_0$) occurs between the two CNOT gates. The circuit then looks like:\n",
    "\n",
    "<img src=\"attachment:image.png\" width=\"200\">\n",
    "\n",
    "With an initial state of $\\ket{00}$ we will know get an output of $\\ket{01}$ which implies that a bit flip error does not travel upwards through a CNOT. Hence, we conclude that a bit flip error only propagates downwards through CNOT gates."
   ]
  },
  {
   "cell_type": "markdown",
   "metadata": {},
   "source": [
    "#### Exercise 5.0:\n",
    "Phase flip errors propagate upwards through CNOT gates. Verify this statement with pen & paper and/or with pyQuil by implementing a short circuit that:\n",
    "\n",
    "- initializes an equal superposition over all 2-qubit strings,\n",
    "- applies a phase (Z) gate to one of the qubits,\n",
    "- applies a CNOT gate to the two qubits,\n",
    "- observe how the phase flip propagates."
   ]
  },
  {
   "cell_type": "code",
   "execution_count": null,
   "metadata": {},
   "outputs": [],
   "source": [
    "from pyquil.api import QVMConnection\n",
    "from pyquil.gates import CNOT, H, Z, CCNOT, X, CZ, I\n",
    "from pyquil.quil import Program\n",
    "\n",
    "qvm = QVMConnection()\n",
    "p = Program()\n",
    "\n",
    "print(qvm.wavefunction(p))"
   ]
  },
  {
   "cell_type": "markdown",
   "metadata": {},
   "source": [
    "#### Exercise 5.1:\n",
    "We can exploit the fact that phase flip errors propagate upwards to simulate local Hamiltonians with many-body interactions such as:\n",
    "\n",
    "$$ H = \\gamma \\big( Z_0 \\otimes Z_1 \\otimes Z_2 \\big) $$\n",
    "\n",
    "Implement a quantum circuit with at least three qubits in pyQuil that simulates the Hamiltonian above. <a title=\"Check out pages 209-211 in Nielsen & Chuang.\">Hint.</a>"
   ]
  },
  {
   "cell_type": "code",
   "execution_count": null,
   "metadata": {},
   "outputs": [],
   "source": [
    "# TODO: simulate the Hamiltonian above"
   ]
  },
  {
   "cell_type": "markdown",
   "metadata": {},
   "source": [
    "***\n",
    "## 6. Bonus exercises"
   ]
  },
  {
   "cell_type": "markdown",
   "metadata": {},
   "source": [
    "#### Bonus Exercise 6.0:\n",
    "Find the Toffoli decomposition with the lowest T count possible (small number of $T$ gates) by using [Nielsen & Chuang](http://www-reynal.ensea.fr/docs/iq/QC10th.pdf) or other resources. Implement the following two circuits with pyQuil to verify if the decomposition is correct:\n",
    "\n",
    "- single Toffoli gate\n",
    "- decomposed Toffoli\n",
    "\n",
    "Using the three different input states: $\\ket{000},\n",
    "\\ket{010},\n",
    "\\ket{001},\n",
    "\\ket{011}$"
   ]
  },
  {
   "cell_type": "code",
   "execution_count": null,
   "metadata": {},
   "outputs": [],
   "source": [
    "# Write code here."
   ]
  }
 ],
 "metadata": {
  "kernelspec": {
   "display_name": "Python 3",
   "language": "python",
   "name": "python3"
  },
  "language_info": {
   "codemirror_mode": {
    "name": "ipython",
    "version": 3
   },
   "file_extension": ".py",
   "mimetype": "text/x-python",
   "name": "python",
   "nbconvert_exporter": "python",
   "pygments_lexer": "ipython3",
   "version": "3.6.5"
  }
 },
 "nbformat": 4,
 "nbformat_minor": 2
}
