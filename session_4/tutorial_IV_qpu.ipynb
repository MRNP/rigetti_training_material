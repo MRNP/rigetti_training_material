{
 "cells": [
  {
   "cell_type": "markdown",
   "metadata": {},
   "source": [
    "# Tutorial 4: Advanced features\n",
    "\n",
    "##### In this tutorial, you will learn:\n",
    "* _How to inspect Rigetti's devices using Forest API_\n",
    "* _Extract and interpret the information about decoherence of the qubits_\n",
    "* _Usage of the server-side compiler_\n",
    "* _How to incorporate noise models to estimate performance of the circuit on the real chip_\n",
    "\n",
    "$$\\newcommand{\\ket}[1]{\\left|{#1}\\right\\rangle}\n",
    "\\newcommand{\\bra}[1]{\\left\\langle{#1}\\right|}$$"
   ]
  },
  {
   "cell_type": "code",
   "execution_count": null,
   "metadata": {
    "scrolled": true
   },
   "outputs": [],
   "source": [
    "%matplotlib inline\n",
    "# need newest pyQuil version due to fixed issues\n",
    "!pip install --upgrade https://github.com/rigetticomputing/pyquil/archive/master.zip networkx matplotlib"
   ]
  },
  {
   "cell_type": "code",
   "execution_count": null,
   "metadata": {},
   "outputs": [],
   "source": [
    "import os\n",
    "\n",
    "API_KEY = 'YOUR API KEY GOES HERE'\n",
    "USER_ID = 'YOUR USER ID GOES HERE'\n",
    "\n",
    "PYQUIL_CONFIG = f\"\"\"\n",
    "[Rigetti Forest]\n",
    "url: https://api.rigetti.com/qvm\n",
    "key: {API_KEY}\n",
    "user_id: {USER_ID}\n",
    "\"\"\"\n",
    "\n",
    "with open(os.path.expanduser('~/.pyquil_config'), 'w') as f:\n",
    "    f.write(PYQUIL_CONFIG)"
   ]
  },
  {
   "cell_type": "markdown",
   "metadata": {},
   "source": [
    "### QPU status\n",
    "\n",
    "The QPU devices can have different status and are not always immediatelly accessible. Luckily, you can inspect this information via Forest API."
   ]
  },
  {
   "cell_type": "markdown",
   "metadata": {},
   "source": [
    "#### Exercise 4.1\n",
    "Use `pyquil.api` module to obtain list of available devices. Only list the devices that are currently online. What other states can devices be in?"
   ]
  },
  {
   "cell_type": "code",
   "execution_count": null,
   "metadata": {},
   "outputs": [],
   "source": []
  },
  {
   "cell_type": "markdown",
   "metadata": {},
   "source": [
    "### Chip topology\n",
    "\n",
    "Knowing qubit topology of the chip you're working with is an important requirement to be able to design efficient circuits. Forest API provides an interface that exposes this information as well."
   ]
  },
  {
   "cell_type": "markdown",
   "metadata": {},
   "source": [
    "\n",
    "#### Exercise 4.2\n",
    "Use <a href=\"https://pyquil.readthedocs.io/en/latest\">Rigetti's documentation</a> to obtain and plot the topology of the `8Q-Agave` chip."
   ]
  },
  {
   "cell_type": "code",
   "execution_count": null,
   "metadata": {},
   "outputs": [],
   "source": []
  },
  {
   "cell_type": "code",
   "execution_count": null,
   "metadata": {},
   "outputs": [],
   "source": [
    "import networkx\n",
    "G = networkx.Graph()\n",
    "G.add_nodes_from(nodes)\n",
    "G.add_edges_from(edges)\n",
    "networkx.draw(G, with_labels=True, font_weight='bold')"
   ]
  },
  {
   "cell_type": "markdown",
   "metadata": {},
   "source": [
    "#### Exercise 4.3\n",
    "Rigetti also has a newer chip, called `19Q-Acorn`, which is currently offline (as you learned in the exercise 4.1) due to high number of malfunctioning qubits/couplings after a power outage incident. Obtain and plot the topology of the `19Q-Acorn` chip. Note that malfunctioning parts of the chip are marked as \"dead\", make sure to exclude those."
   ]
  },
  {
   "cell_type": "code",
   "execution_count": null,
   "metadata": {},
   "outputs": [],
   "source": []
  },
  {
   "cell_type": "code",
   "execution_count": null,
   "metadata": {},
   "outputs": [],
   "source": [
    "import networkx\n",
    "G = networkx.Graph()\n",
    "G.add_nodes_from(nodes)\n",
    "G.add_edges_from(edges)\n",
    "networkx.draw(G, with_labels=True, font_weight='bold')"
   ]
  },
  {
   "cell_type": "markdown",
   "metadata": {},
   "source": [
    "### Decoherence and circuit depth\n",
    "\n",
    "One of the main limiting factors if current near-term devices is actual decoherence of the qubits in the device. Decoherence can be loosely interpreted as loss of the quantum information in the qubit, and is caused by imperfections in the implementations of the quantum gates, or due to simple time-evolution of the system, as any current quantum chip is necessarily an open quantum system to a certain degree.\n",
    "\n",
    "Generally, there are three sources of errors in the implementation of a given quantum circuit:\n",
    "* actual qubit decoherence due to time-evolution (i.e. noise, interactions with environment)\n",
    "* imprecise gate implementations (gates that do not have fidelities of 1)\n",
    "* readout errors"
   ]
  },
  {
   "cell_type": "markdown",
   "metadata": {},
   "source": [
    "#### $T_1$ and $T_2$ times\n",
    "$T_1$ and $T_2$ relaxation times are one of the basic measures of performance of qubits in terms of decoherence. Roughly speaking:\n",
    "\n",
    "* $T_1$ relaxation time (also called the \"amplitude damping\") is time during which the qubit decoheres from its excited state $\\ket{1}$ to relaxed state $\\ket{0}$.\n",
    "* $T_2$ relaxation time (also called the \"phase damping\") can be measured using the following experiment: First you put the qubit into the superposition state $\\frac{\\ket{0}+\\ket{1}}{\\sqrt{2}}$ using a Hadamard gate, then you wait for $t_2$ and apply a Hadamard gate again. Without any noise, you would expect the state to be $\\ket{0}$ again (remember $H^2 = I$), but if something caused the qubit to decohere to either $\\ket{0}$ or $\\ket{1}$ in the meantime, you will obtain the $\\frac{\\ket{0}\\pm\\ket{1}}{\\sqrt{2}}$ instead.\n"
   ]
  },
  {
   "cell_type": "markdown",
   "metadata": {},
   "source": [
    "#### Exercise 4.4\n",
    "\n",
    "Use the device specifications of the $T_1$ times `8Q-Agave` chip obtained via the API, determine a simple upper bound on the single-qubit and two-qubit circuit depth on qubit 7 (assuming zero readout error and perfect-fidelity gates).\n",
    "\n",
    "The average gate execution time of single qubit gate is 50ns and 150ns for the case of two-qubit gate."
   ]
  },
  {
   "cell_type": "code",
   "execution_count": null,
   "metadata": {},
   "outputs": [],
   "source": []
  },
  {
   "cell_type": "markdown",
   "metadata": {},
   "source": [
    "#### Noise models\n",
    "Simple estimation as given in the previous exercise provide a generous upper bound, since they neglect other source of errors in the computation, such as the readout errors or gate fidelities. To use a noise model, simply specify a device during definition of the QVMConnection object."
   ]
  },
  {
   "cell_type": "markdown",
   "metadata": {},
   "source": [
    "#### Exercise 4.5\n",
    "\n",
    "Implement a simple circuit consisting of 20 alternating CNOT gates (swtiching between control qubit on 0 and 1). Empirically measure its performance (how many runs out of 1000 did not end up in the expected state)."
   ]
  },
  {
   "cell_type": "code",
   "execution_count": null,
   "metadata": {},
   "outputs": [],
   "source": []
  },
  {
   "cell_type": "markdown",
   "metadata": {},
   "source": [
    "Increase the number of gates to 100 and then 200. How do you interpret the results?"
   ]
  },
  {
   "cell_type": "markdown",
   "metadata": {},
   "source": [
    "### Manually triggered compilation\n",
    "\n",
    "In the usual setting of submitting jobs to the QPU, the compilation is happening transparently, without the user of the Forest API needing to know that the circuit they constructed is decomposed into sequence of gate operations that are actually implemented on the hardware.\n",
    "\n",
    "Similiarly, in order to accurately simulate the device with the noise, the circuits also have to be compiled to the fundamental gate set implemented by the chip, since those gates are the ones we have experimental information about.\n",
    "\n",
    "Given both these cases, it is useful to be able to actually inspect and analyze the compiled version of the circuit - since that is what is exactly being run on the device."
   ]
  },
  {
   "cell_type": "markdown",
   "metadata": {},
   "source": [
    "#### Exercise 4.6\n",
    "\n",
    "Compile circuit from the previous exercise using the CompilerConnection object. Inspect the compiler circuit, and figure out if anything is surprising. Contrast with the result of the previous exercise. Does this explain any surprising results?\n",
    "\n",
    "Additionally, figure out the following parameters of the compiled circuit:\n",
    "* gate depth\n",
    "* two-qubit gate depth\n",
    "* total number of gates used"
   ]
  },
  {
   "cell_type": "code",
   "execution_count": null,
   "metadata": {},
   "outputs": [],
   "source": []
  },
  {
   "cell_type": "code",
   "execution_count": null,
   "metadata": {},
   "outputs": [],
   "source": []
  },
  {
   "cell_type": "markdown",
   "metadata": {},
   "source": [
    "#### Exercise 4.7\n",
    "Inspect the following circuit. Compile it to the `8Q-Agave` device. How does the compiled version differ from the uncompiled one?\n",
    "\n",
    "```\n",
    "H 2\n",
    "H 4\n",
    "H 7\n",
    "CNOT 2 4\n",
    "CNOT 4 7\n",
    "CNOT 2 4\n",
    "H 7\n",
    "H 4\n",
    "H 2\n",
    "```"
   ]
  },
  {
   "cell_type": "code",
   "execution_count": null,
   "metadata": {},
   "outputs": [],
   "source": []
  }
 ],
 "metadata": {
  "kernelspec": {
   "display_name": "Python 3",
   "language": "python",
   "name": "python3"
  },
  "language_info": {
   "codemirror_mode": {
    "name": "ipython",
    "version": 3
   },
   "file_extension": ".py",
   "mimetype": "text/x-python",
   "name": "python",
   "nbconvert_exporter": "python",
   "pygments_lexer": "ipython3",
   "version": "3.6.5"
  }
 },
 "nbformat": 4,
 "nbformat_minor": 2
}
